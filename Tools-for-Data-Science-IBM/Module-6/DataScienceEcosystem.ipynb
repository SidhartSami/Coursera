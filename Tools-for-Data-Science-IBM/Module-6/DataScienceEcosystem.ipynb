{
  "nbformat": 4,
  "nbformat_minor": 0,
  "metadata": {
    "colab": {
      "provenance": []
    },
    "kernelspec": {
      "name": "python3",
      "display_name": "Python 3"
    },
    "language_info": {
      "name": "python"
    }
  },
  "cells": [
    {
      "cell_type": "markdown",
      "source": [
        "#Data Science Tools and Ecosystem"
      ],
      "metadata": {
        "id": "IgR8_R4oT4C6"
      }
    },
    {
      "cell_type": "markdown",
      "source": [
        "In this notebook, Data Science Tools and Ecosystem are summarized."
      ],
      "metadata": {
        "id": "N8BNSY5mUILQ"
      }
    },
    {
      "cell_type": "markdown",
      "source": [
        "**Objectives:**<br>\n",
        "1.List popular languages for Data Science<br>\n",
        "2.List popular Libraries for Data Science<br>\n",
        "3.List popular tools for Data Science<br>"
      ],
      "metadata": {
        "id": "iZmaPQhmX1h6"
      }
    },
    {
      "cell_type": "markdown",
      "source": [
        "Some of the popular languages that Data Scientists use are:<br>\n",
        "1.Python<br>\n",
        "2.R<br>\n",
        "3.Julia<br>\n",
        "4.SQL<br>"
      ],
      "metadata": {
        "id": "Z2upv-hAUXVz"
      }
    },
    {
      "cell_type": "markdown",
      "source": [
        "Some of the commonly used libraries used by Data Scientists include:<br>\n",
        "1.Numpy<br>\n",
        "2.Pandas<br>\n",
        "3.Keras<br>"
      ],
      "metadata": {
        "id": "YU6V7qPnU48n"
      }
    },
    {
      "cell_type": "markdown",
      "source": [
        "| Data Science Tools |\n",
        "|--------|\n",
        "| Numpy  |\n",
        "| Seaborn  |\n",
        "| Pandas  |\n"
      ],
      "metadata": {
        "id": "rLm6sl1EVmXd"
      }
    },
    {
      "cell_type": "markdown",
      "source": [
        "###Below are a few examples of evaluating arithmetic expressions in Python."
      ],
      "metadata": {
        "id": "jdtaHRboWqSA"
      }
    },
    {
      "cell_type": "code",
      "execution_count": 1,
      "metadata": {
        "colab": {
          "base_uri": "https://localhost:8080/"
        },
        "id": "Dq6nRIoCTv4A",
        "outputId": "1a94059d-0049-4109-943d-0b7ef170b162"
      },
      "outputs": [
        {
          "output_type": "execute_result",
          "data": {
            "text/plain": [
              "17"
            ]
          },
          "metadata": {},
          "execution_count": 1
        }
      ],
      "source": [
        "(3*4)+5\n",
        "#This a simple arithmetic expression to mutiply then add integers"
      ]
    },
    {
      "cell_type": "code",
      "source": [
        "#This will convert 200 minutes to hours by diving by 60\n",
        "200/60"
      ],
      "metadata": {
        "colab": {
          "base_uri": "https://localhost:8080/"
        },
        "id": "S6jy2mtyXNKA",
        "outputId": "192ea974-a3eb-4fd9-f50c-52a8572a8766"
      },
      "execution_count": 2,
      "outputs": [
        {
          "output_type": "execute_result",
          "data": {
            "text/plain": [
              "3.3333333333333335"
            ]
          },
          "metadata": {},
          "execution_count": 2
        }
      ]
    },
    {
      "cell_type": "markdown",
      "source": [
        "##Author:\n",
        "Sidhart Sami"
      ],
      "metadata": {
        "id": "6OzPy0tMYRc4"
      }
    }
  ]
}